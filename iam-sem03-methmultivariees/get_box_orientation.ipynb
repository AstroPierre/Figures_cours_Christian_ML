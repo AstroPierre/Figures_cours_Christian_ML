{
 "cells": [
  {
   "cell_type": "code",
   "execution_count": 5,
   "metadata": {},
   "outputs": [
    {
     "name": "stdout",
     "output_type": "stream",
     "text": [
      "-77.15136476426795 35.42800852398369\n",
      "-98.94789081885853 33.61867234932254\n",
      "-115.74193548387092 27.82879659040657\n",
      "-130.03473945409425 20.95331912669377\n"
     ]
    }
   ],
   "source": [
    "%matplotlib qt\n",
    "import numpy as np\n",
    "import matplotlib.pyplot as plt\n",
    "from mpl_toolkits.mplot3d import Axes3D\n",
    "\n",
    "mol=np.random.rand(6,3)*10.0\n",
    "\n",
    "fig3d = plt.figure(figsize = ( 6.5, 6.5 ) )\n",
    "\n",
    "fig3d.canvas.set_window_title('3D')\n",
    "\n",
    "ax3d = fig3d.gca(projection='3d')\n",
    "ax3d.scatter(mol[:,0], mol[:,1], mol[:,2], s=200)  \n",
    "\n",
    "# List to save your projections to\n",
    "projections = []\n",
    "\n",
    "# This is called everytime you release the mouse button\n",
    "def on_click(event):\n",
    "    azim, elev = ax3d.azim, ax3d.elev\n",
    "    projections.append((azim, elev))\n",
    "    print(azim, elev)\n",
    "\n",
    "cid = fig3d.canvas.mpl_connect('button_release_event', on_click)\n",
    "\n",
    "#plt.show()"
   ]
  },
  {
   "cell_type": "code",
   "execution_count": null,
   "metadata": {},
   "outputs": [],
   "source": []
  }
 ],
 "metadata": {
  "kernelspec": {
   "display_name": "Python 3",
   "language": "python",
   "name": "python3"
  },
  "language_info": {
   "codemirror_mode": {
    "name": "ipython",
    "version": 3
   },
   "file_extension": ".py",
   "mimetype": "text/x-python",
   "name": "python",
   "nbconvert_exporter": "python",
   "pygments_lexer": "ipython3",
   "version": "3.7.6"
  }
 },
 "nbformat": 4,
 "nbformat_minor": 4
}
